{
    "cells": [
        {
            "cell_type": "markdown",
            "metadata": {
                "collapsed": true
            },
            "source": "# My Jupyter Notebook on IBM Watson Studio\n"
        },
        {
            "cell_type": "markdown",
            "metadata": {},
            "source": "**Steve Hernandez**."
        },
        {
            "cell_type": "markdown",
            "metadata": {},
            "source": "My current ocupation is tech support analyst"
        },
        {
            "cell_type": "markdown",
            "metadata": {},
            "source": "_I always felt attracted to CS and programming and technology. I started learning Python about 1.5 years an when deciding my field of expertise, I noticed the Data science field was aligned with more with my job experience when it comes to run analysis, find drivers and motives and support a decision taking. That's why I decided for Data Science_"
        },
        {
            "cell_type": "markdown",
            "metadata": {},
            "source": "### Below is a function with distance formula"
        },
        {
            "cell_type": "code",
            "execution_count": 3,
            "metadata": {},
            "outputs": [
                {
                    "data": {
                        "text/plain": "20.0"
                    },
                    "execution_count": 3,
                    "metadata": {},
                    "output_type": "execute_result"
                }
            ],
            "source": "# Press ctrl + enter to execute formula\ndef distance(a,b):\n    result = ((a-b)**2)**0.5\n    return result\n\ndistance(10,30)"
        },
        {
            "cell_type": "markdown",
            "metadata": {},
            "source": "Things I'm still ~struggling~ working on\n* Statistics\n* Machine Learning\n* Project\n\n\n***\n\n| id | item | color | material |\n|----|------|-------|----------|\n| 1  |  Hat | Brown | Leather  |\n| 2  | Coat | Black |  Wool    |\n\n---\n\n>Creativity is the process of having original ideas that have value. It is a process; it's not random.\n\nKen Robinson"
        }
    ],
    "metadata": {
        "kernelspec": {
            "display_name": "Python 3.10",
            "language": "python",
            "name": "python3"
        },
        "language_info": {
            "codemirror_mode": {
                "name": "ipython",
                "version": 3
            },
            "file_extension": ".py",
            "mimetype": "text/x-python",
            "name": "python",
            "nbconvert_exporter": "python",
            "pygments_lexer": "ipython3",
            "version": "3.10.6"
        }
    },
    "nbformat": 4,
    "nbformat_minor": 1
}